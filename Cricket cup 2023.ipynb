{
 "cells": [
  {
   "cell_type": "code",
   "execution_count": null,
   "metadata": {},
   "outputs": [],
   "source": [
    "import pandas as pd\n",
    "# Loading data of Batting & Bowling\n",
    "bat_df = pd.read_csv(r\"H:\\Data science\\DataSet\\odi world cup 2023 dataset\\batting_summary.csv\", encoding =\"latin1\") \n",
    "bowl_df = pd.read_csv(r\"H:\\Data science\\DataSet\\odi world cup 2023 dataset\\bowling_summary.csv\", encoding=\"latin1\")\n",
    "# Checking Top 5 row of data\n",
    "print(bat_df.head())\n",
    "print(bowl_df.head())"
   ]
  },
  {
   "cell_type": "code",
   "execution_count": 12,
   "metadata": {},
   "outputs": [
    {
     "name": "stdout",
     "output_type": "stream",
     "text": [
      "<class 'pandas.core.frame.DataFrame'>\n",
      "RangeIndex: 916 entries, 0 to 915\n",
      "Data columns (total 11 columns):\n",
      " #   Column            Non-Null Count  Dtype \n",
      "---  ------            --------------  ----- \n",
      " 0   Match_no          916 non-null    int64 \n",
      " 1   Match_Between     916 non-null    object\n",
      " 2   Team_Innings      916 non-null    object\n",
      " 3   Batsman_Name      916 non-null    object\n",
      " 4   Batting_Position  916 non-null    int64 \n",
      " 5   Dismissal         914 non-null    object\n",
      " 6   Runs              916 non-null    int64 \n",
      " 7   Balls             916 non-null    int64 \n",
      " 8   4s                916 non-null    int64 \n",
      " 9   6s                916 non-null    int64 \n",
      " 10  Strike_Rate       916 non-null    object\n",
      "dtypes: int64(6), object(5)\n",
      "memory usage: 78.8+ KB\n",
      "None\n",
      "<class 'pandas.core.frame.DataFrame'>\n",
      "RangeIndex: 574 entries, 0 to 573\n",
      "Data columns (total 9 columns):\n",
      " #   Column         Non-Null Count  Dtype  \n",
      "---  ------         --------------  -----  \n",
      " 0   Match_no       574 non-null    int64  \n",
      " 1   Match_Between  574 non-null    object \n",
      " 2   Bowling_Team   574 non-null    object \n",
      " 3   Bowler_Name    574 non-null    object \n",
      " 4   Overs          574 non-null    float64\n",
      " 5   Maidens        574 non-null    int64  \n",
      " 6   Runs           574 non-null    int64  \n",
      " 7   Wickets        574 non-null    int64  \n",
      " 8   Economy        574 non-null    float64\n",
      "dtypes: float64(2), int64(4), object(3)\n",
      "memory usage: 40.5+ KB\n",
      "None\n"
     ]
    }
   ],
   "source": [
    "# Data informaation\n",
    "print(bat_df.info())\n",
    "print(bowl_df.info())"
   ]
  },
  {
   "cell_type": "code",
   "execution_count": 14,
   "metadata": {},
   "outputs": [],
   "source": [
    "# It's time to Clean data  & Handling Missing values\n",
    "bat_df['Runs'] = pd.to_numeric(bat_df['Runs'], errors ='coerce')\n",
    "bowl_df['Wickets'] = pd.to_numeric(bowl_df['Wickets'], errors='coerce')\n",
    "\n",
    "# Filling Missing values with appropriate default values\n",
    "bat_df.fillna({'Runs':0, 'Balls':1}, inplace=True)\n",
    "bowl_df.fillna({'Wickets':0, 'Overs': 0}, inplace=True)"
   ]
  },
  {
   "cell_type": "code",
   "execution_count": 19,
   "metadata": {},
   "outputs": [
    {
     "name": "stdout",
     "output_type": "stream",
     "text": [
      "Top 5 Highest Run Scorers in a Match:\n",
      "         Batsman_Name  Runs\n",
      "767    Glenn Maxwell   201\n",
      "841   Mitchell Marsh   177\n",
      "458  Quinton de Kock   174\n",
      "367     David Warner   163\n",
      "11      Devon Conway   152\n"
     ]
    }
   ],
   "source": [
    "# Finding the Top 5 Highest Run Scorers in a Match\n",
    "top_scorers = bat_df.nlargest(5, 'Runs')\n",
    "print('Top 5 Highest Run Scorers in a Match:\\n', top_scorers[['Batsman_Name', 'Runs']])"
   ]
  },
  {
   "cell_type": "code",
   "execution_count": 20,
   "metadata": {},
   "outputs": [
    {
     "name": "stdout",
     "output_type": "stream",
     "text": [
      "Top 5 Highest Wicket Takers in a Match:\n",
      "             Bowler_Name  Wickets\n",
      "547      Mohammed Shami        7\n",
      "70     Mitchell Santner        5\n",
      "207      Shaheen Afridi        5\n",
      "244      Mohammed Shami        5\n",
      "384  Dilshan Madushanka        5\n"
     ]
    }
   ],
   "source": [
    "# Findig Top 5 Wicket Takers in a Single Match \n",
    "top_bowlers = bowl_df.nlargest(5, 'Wickets')\n",
    "print('Top 5 Highest Wicket Takers in a Match:\\n', top_bowlers[['Bowler_Name', 'Wickets']])"
   ]
  },
  {
   "cell_type": "code",
   "execution_count": null,
   "metadata": {},
   "outputs": [
    {
     "name": "stdout",
     "output_type": "stream",
     "text": [
      "Best Strike Rate:\n",
      "          Batsman_Name  Strike_Rate\n",
      "481     Glenn Maxwell   240.909091\n",
      "56      Aiden Markram   196.296296\n",
      "411  Heinrich Klaasen   162.686567\n",
      "535       Travis Head   162.686567\n",
      "869          KL Rahul   159.375000\n"
     ]
    }
   ],
   "source": [
    "# Best Strike Rate [min 100 Runs]\n",
    "bat_df['Strike_Rate'] = (bat_df[\"Runs\"]/bat_df['Balls'])*100\n",
    "best_strike = bat_df[bat_df['Runs']>100].nlargest(5, 'Strike_Rate')\n",
    "print(\"Best Strike Rate:\\n\", best_strike[['Batsman_Name', \"Strike_Rate\"]])"
   ]
  },
  {
   "cell_type": "code",
   "execution_count": 24,
   "metadata": {},
   "outputs": [
    {
     "name": "stdout",
     "output_type": "stream",
     "text": [
      "Team wise Runs:\n",
      "    Team_Innings  Runs\n",
      "0   Afghanistan  1990\n",
      "1     Australia  3303\n",
      "2    Bangladesh  1944\n",
      "3       England  2135\n",
      "4         India  3038\n",
      "5   Netherlands  1728\n",
      "6   New Zealand  2712\n",
      "7      Pakistan  2220\n",
      "8  South Africa  3272\n",
      "9     Sri Lanka  1942\n"
     ]
    }
   ],
   "source": [
    "# Team wise total Runs\n",
    "team_runs = bat_df.groupby('Team_Innings')['Runs'].sum().reset_index()\n",
    "print(\"Team wise Runs:\\n\", team_runs)"
   ]
  },
  {
   "cell_type": "code",
   "execution_count": null,
   "metadata": {},
   "outputs": [],
   "source": [
    "# Best Bowling Economy (Min 10 Overs)\n",
    "bowl"
   ]
  }
 ],
 "metadata": {
  "kernelspec": {
   "display_name": "Python 3",
   "language": "python",
   "name": "python3"
  },
  "language_info": {
   "codemirror_mode": {
    "name": "ipython",
    "version": 3
   },
   "file_extension": ".py",
   "mimetype": "text/x-python",
   "name": "python",
   "nbconvert_exporter": "python",
   "pygments_lexer": "ipython3",
   "version": "3.13.2"
  }
 },
 "nbformat": 4,
 "nbformat_minor": 2
}
